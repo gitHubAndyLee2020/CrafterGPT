{
  "nbformat": 4,
  "nbformat_minor": 0,
  "metadata": {
    "colab": {
      "provenance": [],
      "machine_shape": "hm",
      "authorship_tag": "ABX9TyOqngV5fQTFoFTK/Scw7sHF",
      "include_colab_link": true
    },
    "kernelspec": {
      "name": "python3",
      "display_name": "Python 3"
    },
    "language_info": {
      "name": "python"
    }
  },
  "cells": [
    {
      "cell_type": "markdown",
      "metadata": {
        "id": "view-in-github",
        "colab_type": "text"
      },
      "source": [
        "<a href=\"https://colab.research.google.com/github/gitHubAndyLee2020/CrafterGPT/blob/main/CrafterGPT_SFT_Data_Engineering.ipynb\" target=\"_parent\"><img src=\"https://colab.research.google.com/assets/colab-badge.svg\" alt=\"Open In Colab\"/></a>"
      ]
    },
    {
      "cell_type": "markdown",
      "source": [
        "### CrafterGPT SFT Data Engineering"
      ],
      "metadata": {
        "id": "qmI90y0a5Pa8"
      }
    },
    {
      "cell_type": "markdown",
      "source": [
        "### Install SmartPlay and Dependencies"
      ],
      "metadata": {
        "id": "vd4eMv3j_JBq"
      }
    },
    {
      "cell_type": "code",
      "source": [
        "!pip install -q condacolab\n",
        "import condacolab\n",
        "condacolab.install()"
      ],
      "metadata": {
        "id": "M0UQ-Y2q_KXZ"
      },
      "execution_count": null,
      "outputs": []
    },
    {
      "cell_type": "code",
      "source": [
        "import condacolab\n",
        "condacolab.check()"
      ],
      "metadata": {
        "id": "bY7bP-y5__1o"
      },
      "execution_count": null,
      "outputs": []
    },
    {
      "cell_type": "code",
      "source": [
        "!git clone https://github.com/microsoft/SmartPlay.git"
      ],
      "metadata": {
        "id": "mc1ecZ02ABBv"
      },
      "execution_count": null,
      "outputs": []
    },
    {
      "cell_type": "code",
      "source": [
        "!conda env update -n base -f ./SmartPlay/environment.yml"
      ],
      "metadata": {
        "id": "10UTecMcACgo"
      },
      "execution_count": null,
      "outputs": []
    },
    {
      "cell_type": "code",
      "source": [
        "!pip install minedojo"
      ],
      "metadata": {
        "id": "PCwiiZv-ADlm"
      },
      "execution_count": null,
      "outputs": []
    },
    {
      "cell_type": "code",
      "source": [
        "!cd SmartPlay && pip install -e ."
      ],
      "metadata": {
        "id": "rZgr7sdJAEbl"
      },
      "execution_count": null,
      "outputs": []
    },
    {
      "cell_type": "code",
      "source": [
        "!pip install gym crafter datasets"
      ],
      "metadata": {
        "id": "XNTSOwrMAFz-"
      },
      "execution_count": null,
      "outputs": []
    },
    {
      "cell_type": "code",
      "source": [
        "!pip install cffi==1.16.0 # Solves cffi package version conflict that occurs"
      ],
      "metadata": {
        "id": "48zUKj7sAS6A"
      },
      "execution_count": null,
      "outputs": []
    },
    {
      "cell_type": "markdown",
      "source": [
        "### Upload Crafter Human Dataset"
      ],
      "metadata": {
        "id": "GuJ87zgy_D34"
      }
    },
    {
      "cell_type": "code",
      "source": [
        "from google.colab import files\n",
        "uploaded = files.upload()"
      ],
      "metadata": {
        "id": "w3wcwiPiEwLt"
      },
      "execution_count": null,
      "outputs": []
    },
    {
      "cell_type": "code",
      "source": [
        "!unzip crafter_human_dataset.zip\n",
        "!mv dataset crafter_human_dataset"
      ],
      "metadata": {
        "id": "siv7T3-fPiG5"
      },
      "execution_count": null,
      "outputs": []
    },
    {
      "cell_type": "code",
      "source": [
        "import numpy as np\n",
        "import os"
      ],
      "metadata": {
        "id": "U0Y6m54mQRSV"
      },
      "execution_count": null,
      "outputs": []
    },
    {
      "cell_type": "code",
      "source": [
        "directory = 'crafter_human_dataset'\n",
        "npz_files = [file for file in os.listdir(directory) if file.endswith('.npz')]"
      ],
      "metadata": {
        "id": "reNz2v13RvR4"
      },
      "execution_count": null,
      "outputs": []
    },
    {
      "cell_type": "code",
      "source": [
        "action_names = [\n",
        "  \"noop\",\n",
        "  \"move_left\",\n",
        "  \"move_right\",\n",
        "  \"move_up\",\n",
        "  \"move_down\",\n",
        "  \"do\",\n",
        "  \"sleep\",\n",
        "  \"place_stone\",\n",
        "  \"place_table\",\n",
        "  \"place_furnace\",\n",
        "  \"place_plant\",\n",
        "  \"make_wood_pickaxe\",\n",
        "  \"make_stone_pickaxe\",\n",
        "  \"make_iron_pickaxe\",\n",
        "  \"make_wood_sword\",\n",
        "  \"make_stone_sword\",\n",
        "  \"make_iron_sword\",\n",
        "]"
      ],
      "metadata": {
        "id": "toEihcWaxgGd"
      },
      "execution_count": null,
      "outputs": []
    },
    {
      "cell_type": "code",
      "source": [
        "action_list = [\n",
        "  'Noop',\n",
        "  'Move West',\n",
        "  'Move East',\n",
        "  'Move North',\n",
        "  'Move South',\n",
        "  'Do',\n",
        "  'Sleep',\n",
        "  'Place Stone',\n",
        "  'Place Table',\n",
        "  'Place Furnace',\n",
        "  'Place Plant',\n",
        "  'Make Wood Pickaxe',\n",
        "  'Make Stone Pickaxe',\n",
        "  'Make Iron Pickaxe',\n",
        "  'Make Wood Sword',\n",
        "  'Make Stone Sword',\n",
        "  'Make Iron Sword',\n",
        "]"
      ],
      "metadata": {
        "id": "oGGHgaoKIjep"
      },
      "execution_count": null,
      "outputs": []
    },
    {
      "cell_type": "code",
      "source": [
        "def compose_prompt_and_answer(current_observation, past_actions, action_list, inventory, threats, goal, action_options, action_choice):\n",
        "    inventory_item_names = [\n",
        "\t\t\t\t'sapling',\n",
        "\t\t\t\t'wood',\n",
        "\t\t\t\t'stone',\n",
        "\t\t\t\t'coal',\n",
        "\t\t\t\t'iron',\n",
        "\t\t\t\t'diamond',\n",
        "\t\t\t\t'wood_pickaxe',\n",
        "\t\t\t\t'stone_pickaxe',\n",
        "\t\t\t\t'iron_pickaxe',\n",
        "\t\t\t\t'wood_sword',\n",
        "\t\t\t\t'stone_sword',\n",
        "\t\t\t\t'iron_sword',\n",
        "\t\t]\n",
        "\n",
        "    inventory_item_name_to_label = {\n",
        "\t\t\t\t 'sapling': 'Sapling',\n",
        "\t\t\t\t 'wood': 'Wood',\n",
        "\t\t\t\t 'stone': 'Stone',\n",
        "\t\t\t\t 'coal': 'Coal',\n",
        "\t\t\t\t 'iron': 'Iron',\n",
        "\t\t\t\t 'diamond': 'Diamond',\n",
        "\t\t\t\t 'wood_pickaxe': 'Wood Pickaxe',\n",
        "\t\t\t\t 'stone_pickaxe': 'Stone Pickaxe',\n",
        "\t\t\t\t 'iron_pickaxe': 'Iron Pickaxe',\n",
        "\t\t\t\t 'wood_sword': 'Wood Sword',\n",
        "\t\t\t\t 'stone_sword': 'Stone Sword',\n",
        "\t\t\t\t 'iron_sword': 'Iron Sword',\n",
        "\t\t}\n",
        "\n",
        "    inventory_desc = \"\"\n",
        "\n",
        "    for inventory_item_name in inventory_item_names:\n",
        "      if inventory[inventory_item_name] > 0:\n",
        "        inventory_desc += f\"* {inventory_item_name_to_label[inventory_item_name]}: {inventory[inventory_item_name]}\\n\"\n",
        "\n",
        "    if inventory_desc == \"\":\n",
        "      inventory_desc +=\"* None in inventory.\\n\"\n",
        "\n",
        "    inventory_desc = inventory_desc[:-1]\n",
        "\n",
        "    newline = \"\\n\"\n",
        "\n",
        "    prompt = f\"\"\"\n",
        "Environment Description:\n",
        "\n",
        "1. You are playing a 2D survival game.\n",
        "2. Your goal is to maximize rewards and stay alive.\n",
        "3. You receive 1 point of reward for the first time you achieve the following achievements:\n",
        "\t- Collect Wood: No requirements.\n",
        "\t- Place Table: Requires Collect Wood.\n",
        "\t- Eat Cow: No requirements.\n",
        "\t- Collect Sampling: No requirements.\n",
        "\t- Collect Drink: No requirements.\n",
        "\t- Make Wood Pickaxe: Requires Place Table.\n",
        "\t- Make Wood Sword: Requires Place Table.\n",
        "\t- Place Plant: Requires Collect Sampling.\n",
        "\t- Defeat Zombie: No requirements.\n",
        "\t- Collect Stone: Requires Make Wood Pickaxe.\n",
        "\t- Place Stone: Requires Collect Stone.\n",
        "\t- Eat Plant: Requires Place Plant.\n",
        "\t- Defeat Skeleton: No requirements.\n",
        "\t- Make Stone Pickaxe: Requires Collect Stone.\n",
        "\t- Make Stone Sword: Requires Collect Stone.\n",
        "\t- Wake Up: No requirements.\n",
        "\t- Place Furnace: Requires Collect Stone.\n",
        "\t- Collect Coal: Requires Make Wood Pickaxe.\n",
        "\t- Collect Iron: Requires Make Stone Pickaxe.\n",
        "\t- Make Iron Pickaxe: Requires Place Furnace, Collect Coal, and Collect Iron.\n",
        "\t- Make Iron Sword: Requires Place Furnace, Collect Coal, and Collect Iron.\n",
        "\t- Collect Diamond: Requires Make Iron Pickaxe.\n",
        "4. You will die if the health status reaches 0.\n",
        "5. You will start to lose health if one of the following conditions is true:\n",
        "\t- Zombie or skeleton is attacking you.\n",
        "\t- Food status is 0.\n",
        "\t- Drink status is 0.\n",
        "\t- You fall into lava.\n",
        "6. To resolve each situation, you can do the following:\n",
        "\t- If zombie or skeleton is attacking you, either run away or attack it. You must be one step away from zombie or skeleton to attack it.\n",
        "\t- If food status is 0, attack cow. You must be one step away from cow to attack it.\n",
        "\t- If drink status is 0, drink water. You must be one step away from water to drink it.\n",
        "7. Within the environment, you can take one of the following actions:\n",
        "\t- Noop: Take no action, always applicable.\n",
        "\t- Move West: Requires no object or grass west of you.\n",
        "\t- Move East: Requires no object or grass east of you.\n",
        "\t- Move North: Requires no object or grass north of you.\n",
        "\t- Move South: Requires no object or grass south of you.\n",
        "\t- Do: Requires facing creature or object; (1) collects resource if necessary tools exist or (2) attacks creature\n",
        "\t- Sleep: Requires below maximum energy status; automatically taken if energy status reaches 0.\n",
        "\t- Place Stone: Requires stone in inventory.\n",
        "\t- Place Table: Requires 2 wood in inventory.\n",
        "\t- Place Furnace: Requires 4 stones in inventory.\n",
        "\t- Place Plant: Requires sapling in inventory.\n",
        "\t- Make Wood Pickaxe: Requires you to be 1 step away from table; requires wood in inventory.\n",
        "\t- Make Stone Pickaxe: Requires you to be 1 step away from table; requires wood, stone in inventory.\n",
        "\t- Make Iron Pickaxe: Requires you to be 1 step away from table and furnace; requires wood, coal, iron in inventory.\n",
        "\t- Make Wood Sword: Requires you to be 1 step away from table; requires wood in inventory.\n",
        "\t- Make Stone Sword: Requires you to be 1 step away from table; requires wood, stone in inventory.\n",
        "\t- Make Iron Sword: Requires you to be 1 step away from table and furnace; requires wood, coal, iron in inventory.\n",
        "8. To choose which action to take, consider the following:\n",
        "\t- Take action that will resolve immediate threats.\n",
        "\t- Take action that will collect useful resources.\n",
        "\t- Take action that will achieve new achievements.\n",
        "\n",
        "Current Observation:\n",
        "\n",
        "{current_observation}\n",
        "\n",
        "Action History:\n",
        "\n",
        "{'- ' + (newline + '- ').join(past_actions)}\n",
        "\n",
        "Instruction:\n",
        "\n",
        "- Given the Environment Description, Current Observation, and Action History above, please describe your current status, the resources that you currently have, and potential threats that you currently face.\n",
        "- Then, please describe the No.1 goal that you must work towards.\n",
        "- Then, please list every action that you can take from the Action List below. Please exclude actions that you lack the resources or tools to take.\n",
        "- Finally, please choose one action that aligns with your goal the most. Please output your final choice surrounded by quotation marks, such as \\\"Action Name\\\".\n",
        "\n",
        "Action List:\n",
        "\n",
        "{'- ' + (newline + '- ').join(action_list)}\n",
        "\"\"\"\n",
        "\n",
        "    answer = f\"\"\"\n",
        "Current Status:\n",
        "\n",
        "* Health: {inventory[\"health\"]}/9\n",
        "* Food: {inventory[\"food\"]}/9\n",
        "* Drink: {inventory[\"drink\"]}/9\n",
        "* Energy: {inventory[\"energy\"]}/9\n",
        "\n",
        "Resources:\n",
        "\n",
        "{inventory_desc}\n",
        "\n",
        "Threats:\n",
        "\n",
        "{('* ' + (newline + '* ').join(threats)) if len(threats) > 0 else '* None observed.'}\n",
        "\n",
        "Goal:\n",
        "{goal}\n",
        "\n",
        "Action Options:\n",
        "\n",
        "{newline.join(action_options)}\n",
        "\n",
        "Action Choice:\n",
        "\\\"{action_choice}\\\"\n",
        "\"\"\"\n",
        "\n",
        "    prompt_and_answer = f\"<s>[INST] {prompt} [/INST] {answer} </s>\"\n",
        "\n",
        "    return prompt_and_answer"
      ],
      "metadata": {
        "id": "gCR6CdLlXgiA"
      },
      "execution_count": null,
      "outputs": []
    },
    {
      "cell_type": "code",
      "source": [
        "def get_threats(observed_objects):\n",
        "  threats = []\n",
        "  for direction in observed_objects.keys():\n",
        "    if (observed_objects[direction] is not None) and (observed_objects[direction]['name'] == 'zombie'):\n",
        "      threats.append(f\"Zombie {observed_objects[direction]['steps']} step to the {direction}.\")\n",
        "    elif (observed_objects[direction] is not None) and (observed_objects[direction]['name'] == 'skeleton'):\n",
        "      threats.append(f\"Skeleton {observed_objects[direction]['steps']} step to the {direction}.\")\n",
        "  return threats"
      ],
      "metadata": {
        "id": "fx8U1nypj0CE"
      },
      "execution_count": null,
      "outputs": []
    },
    {
      "cell_type": "code",
      "source": [
        "def get_move_direction_goal(main_direction, sub_direction1, sub_direction2, observed_objects):\n",
        "  goal = f\"My No.1 goal is to move {main_direction} to \"\n",
        "  if (observed_objects[main_direction] is None) and (observed_objects[sub_direction1] is None) and (observed_objects[sub_direction2] is None):\n",
        "    return goal + 'explore more.'\n",
        "  goal += \"approach \"\n",
        "  if observed_objects[main_direction] is not None:\n",
        "    goal += f\"{observed_objects[main_direction]['name']} {observed_objects[main_direction]['steps']} steps to the {main_direction}, \"\n",
        "  if observed_objects[sub_direction1] is not None:\n",
        "    goal += f\"{observed_objects[sub_direction1]['name']} {observed_objects[sub_direction1]['steps']} steps to the {sub_direction1}, \"\n",
        "  if observed_objects[sub_direction2] is not None:\n",
        "    goal += f\"{observed_objects[sub_direction2]['name']} {observed_objects[sub_direction2]['steps']} steps to the {sub_direction2}, \"\n",
        "  return goal[:-2] + \".\"\n",
        "\n",
        "def get_do_goal(inventory, observed_objects):\n",
        "  if observed_objects['front'] == \"water\":\n",
        "    return \"My No.1 goal is to drink water to refill my drink status.\"\n",
        "  elif observed_objects['front'] == \"stone\":\n",
        "    return \"My No.1 goal is to mine stone for collecting resources.\"\n",
        "  elif observed_objects['front'] == \"tree\":\n",
        "    return \"My No.1 goal is to cut down tree for collecting resources.\"\n",
        "  elif observed_objects['front'] == \"coal\":\n",
        "    return \"My No.1 goal is to mine coal for collecting resources.\"\n",
        "  elif observed_objects['front'] == \"iron\":\n",
        "    return \"My No.1 goal is to mine iron for collecting resources.\"\n",
        "  elif observed_objects['front'] == \"diamond\":\n",
        "    return \"My No.1 goal is to mine diamond for collecting resources.\"\n",
        "  elif observed_objects['front'] == \"zombie\":\n",
        "    return \"My No.1 goal is to defeat the zombie that is attacking me.\"\n",
        "  elif observed_objects['front'] == \"skeleton\":\n",
        "    return \"My No.1 goal is to defeat the skeleton that is attacking me.\"\n",
        "  elif observed_objects['front'] == \"cow\":\n",
        "    return \"My No.1 goal is to hunt the cow to refill my food status.\"\n",
        "  elif observed_objects['front'] == \"plant\":\n",
        "    return \"My No.1 goal is to harvest the plant to refill my food status.\"\n",
        "  elif observed_objects['front'] == \"grass\" and inventory['sapling'] > 0:\n",
        "    return \"My No.1 goal is to plant the sapling to grow food, harvest, and refill my food status in the future.\"\n",
        "  else:\n",
        "    return \"My No.1 goal is to take action.\"\n",
        "\n",
        "def get_goal(action, inventory, observed_objects):\n",
        "  goal_list = {\n",
        "    'Noop': 'There is no clear No.1 goal currently.',\n",
        "    'Move West': get_move_direction_goal('west', 'south-west', 'north-west', observed_objects),\n",
        "    'Move East': get_move_direction_goal('east', 'south-east', 'north-east', observed_objects),\n",
        "    'Move North': get_move_direction_goal('north', 'north-west', 'north-east', observed_objects),\n",
        "    'Move South': get_move_direction_goal('south', 'south-west', 'south-east', observed_objects),\n",
        "    'Do': get_do_goal(inventory, observed_objects),\n",
        "    'Sleep': 'My No.1 goal is to sleep and refill my sleep status',\n",
        "    'Place Stone': 'My No.1 goal is to place stone and create a shelter to protect myself from zombies and skeletons.',\n",
        "    'Place Table': 'My No.1 goal is to place table to craft useful tools.',\n",
        "    'Place Furnace': 'My No.1 goal is to place furnace to craft iron tools.',\n",
        "    'Place Plant': 'My No.1 goal is to place plant to harvest food later and refill my food status.',\n",
        "    'Make Wood Pickaxe': 'My No.1 goal is to make wood pickaxe to be able to mine stone.',\n",
        "    'Make Stone Pickaxe': 'My No.1 goal is to make stone pickaxe to be able to mine iron.',\n",
        "    'Make Iron Pickaxe': 'My No.1 goal is to make iron pickaxe to be able to mine diamond.',\n",
        "    'Make Wood Sword': 'My No.1 goal is to make wood sword to protect myself from zombies and skeletons.',\n",
        "    'Make Stone Sword': 'My No.1 goal is to make stone sword to protect myself from zombies and skeletons.',\n",
        "    'Make Iron Sword': 'My No.1 goal is to make iron sword to protect myself from zombies and skeletons.',\n",
        "  }\n",
        "\n",
        "  return goal_list[action]"
      ],
      "metadata": {
        "id": "Gvm5XftldvNG"
      },
      "execution_count": null,
      "outputs": []
    },
    {
      "cell_type": "code",
      "source": [
        "def get_do_action_option(inventory, observed_objects):\n",
        "  if (observed_objects['front'] is not None) and (observed_objects['front']['name'] == \"water\") and (inventory['drink'] < 9):\n",
        "    return \"I have water in front of me, and my drink status is below maximum.\"\n",
        "  elif (observed_objects['front'] is not None) and (observed_objects['front']['name'] == \"stone\") and (inventory['wood_pickaxe'] > 0 or inventory['stone_pickaxe'] > 0 or inventory['iron_pickaxe'] > 0):\n",
        "    return \"I have stone in front of me, and I have pickaxe.\"\n",
        "  elif (observed_objects['front'] is not None) and (observed_objects['front']['name'] == \"tree\"):\n",
        "    return \"I have tree in front of me.\"\n",
        "  elif (observed_objects['front'] is not None) and (observed_objects['front']['name'] == \"coal\") and (inventory['wood_pickaxe'] > 0 or inventory['stone_pickaxe'] > 0 or inventory['iron_pickaxe'] > 0):\n",
        "    return \"I have coal in front of me, and I have pickaxe.\"\n",
        "  elif (observed_objects['front'] is not None) and (observed_objects['front']['name'] == \"iron\") and (inventory['stone_pickaxe'] > 0 or inventory['iron_pickaxe'] > 0):\n",
        "    return f\"I have iron in front of me, and I have {'iron' if inventory['iron_pickaxe'] > 0 else 'stone'} pickaxe.\"\n",
        "  elif (observed_objects['front'] is not None) and (observed_objects['front']['name'] == \"diamond\") and (inventory['iron_pickaxe'] > 0):\n",
        "    return \"I have diamond in front of me, and I have iron pickaxe.\"\n",
        "  elif (observed_objects['front'] is not None) and (observed_objects['front']['name'] == \"zombie\"):\n",
        "    return \"There is zombie in front of me that is attacking me.\"\n",
        "  elif (observed_objects['front'] is not None) and (observed_objects['front']['name'] == \"skeleton\"):\n",
        "    return \"There is skeleton in front of me that is attacking me.\"\n",
        "  elif (observed_objects['front'] is not None) and (observed_objects['front']['name'] == \"cow\") and (inventory['food'] < 9):\n",
        "    return \"I have cow in front of me, and my food status is below maximum.\"\n",
        "  elif (observed_objects['front'] is not None) and (observed_objects['front']['name'] == \"plant\") and (inventory['food'] < 9):\n",
        "    return \"I have plant in front of me that I can harvest, and my food status is below maximum.\"\n",
        "  else:\n",
        "    return None\n",
        "\n",
        "def is_object_nearby(observed_object, target_object_name):\n",
        "  for direction in observed_objects.keys():\n",
        "    if (observed_objects[direction] is not None) and (observed_objects[direction]['name'] == target_object_name) and (observed_objects[direction]['steps'] == 1):\n",
        "      return True\n",
        "  return False\n",
        "\n",
        "def get_action_options(inventory, observed_objects):\n",
        "  all_action_options = {\n",
        "      \"Noop\": \"Take no action.\",\n",
        "      \"Move West\": \"No object to my immediate west.\",\n",
        "      \"Move East\": \"No object to my immediate east.\",\n",
        "      \"Move North\": \"No object to my immediate north.\",\n",
        "      \"Move South\": \"No object to my immediate south.\",\n",
        "      \"Do\": get_do_action_option(inventory, observed_objects),\n",
        "      \"Sleep\": \"My energy status is below maximum.\",\n",
        "      \"Place Stone\": f\"I current have {inventory['stone']} stones in my inventory.\",\n",
        "      \"Place Furnace\": f\"I current have {inventory['stone']} stones in my inventory.\",\n",
        "      \"Place Table\": f\"I current have {inventory['wood']} wood in my inventory.\",\n",
        "      \"Place Plant\": f\"I current have {inventory['sapling']} sapling in my inventory.\",\n",
        "      \"Make Wood Pickaxe\": f\"I current have {inventory['wood']} wood in my inventory, and I am next to a table.\",\n",
        "      \"Make Stone Pickaxe\": f\"I current have {inventory['wood']} wood and {inventory['stone']} stones in my inventory, and I am next to a table.\",\n",
        "      \"Make Iron Pickaxe\": f\"I current have {inventory['wood']} wood, {inventory['iron']} iron, and {inventory['coal']} coals in my inventory, and I am next to a table and a furnace.\",\n",
        "      \"Make Wood Sword\": f\"I current have {inventory['wood']} wood in my inventory, and I am next to a table.\",\n",
        "      \"Make Stone Sword\": f\"I current have {inventory['wood']} wood and {inventory['stone']} stones in my inventory, and I am next to a table.\",\n",
        "      \"Make Iron Sword\": f\"I current have {inventory['wood']} wood, {inventory['iron']} iron, and {inventory['coal']} coals in my inventory, and I am next to a table and a furnace.\",\n",
        "  }\n",
        "\n",
        "  if (observed_objects['west'] is not None) and (observed_objects['west']['steps'] == 1) and (observed_objects['west']['name'] not in ['grass', 'sand', 'path']):\n",
        "    del all_action_options['Move West']\n",
        "  if (observed_objects['east'] is not None) and (observed_objects['east']['steps'] == 1) and (observed_objects['east']['name'] not in ['grass', 'sand', 'path']):\n",
        "    del all_action_options['Move East']\n",
        "  if (observed_objects['north'] is not None) and (observed_objects['north']['steps'] == 1) and (observed_objects['north']['name'] not in ['grass', 'sand', 'path']):\n",
        "    del all_action_options['Move North']\n",
        "  if (observed_objects['south'] is not None) and (observed_objects['south']['steps'] == 1) and (observed_objects['south']['name'] not in ['grass', 'sand', 'path']):\n",
        "    del all_action_options['Move South']\n",
        "  if all_action_options['Do'] is None:\n",
        "    del all_action_options['Do']\n",
        "  if inventory['energy'] == 9:\n",
        "    del all_action_options['Sleep']\n",
        "  if inventory['stone'] == 0 or ((observed_objects['front'] is not None) and (observed_objects['front']['name'] not in ['grass', 'sand', 'path', 'water', 'lava'])):\n",
        "    del all_action_options['Place Stone']\n",
        "  if inventory['stone'] < 4 or ((observed_objects['front'] is not None) and (observed_objects['front']['name'] not in ['grass', 'sand', 'path'])):\n",
        "    del all_action_options['Place Furnace']\n",
        "  if inventory['wood'] < 2 or ((observed_objects['front'] is not None) and (observed_objects['front']['name'] not in ['grass', 'sand', 'path'])):\n",
        "    del all_action_options['Place Table']\n",
        "  if (inventory['sapling'] == 0) or ((observed_objects['front'] is not None) and (observed_objects['front']['name'] == 'grass')):\n",
        "    del all_action_options['Place Plant']\n",
        "  if (inventory['wood'] == 0) or (not is_object_nearby(observed_objects, 'table')):\n",
        "    del all_action_options['Make Wood Pickaxe']\n",
        "  if (inventory['wood'] == 0) or (inventory['stone'] == 0) or (not is_object_nearby(observed_objects, 'table')):\n",
        "    del all_action_options['Make Stone Pickaxe']\n",
        "  if (inventory['wood'] == 0) or (inventory['coal'] == 0) or (inventory['iron'] == 0) or (not is_object_nearby(observed_objects, 'table')) or (not is_object_nearby(observed_objects, 'furnace')):\n",
        "    del all_action_options['Make Iron Pickaxe']\n",
        "  if (inventory['wood'] == 0) or (not is_object_nearby(observed_objects, 'table')):\n",
        "    del all_action_options['Make Wood Sword']\n",
        "  if (inventory['wood'] == 0) or (inventory['stone'] == 0) or (not is_object_nearby(observed_objects, 'table')):\n",
        "    del all_action_options['Make Stone Sword']\n",
        "  if (inventory['wood'] == 0) or (inventory['coal'] == 0) or (inventory['iron'] == 0) or (not is_object_nearby(observed_objects, 'table')) or (not is_object_nearby(observed_objects, 'furnace')):\n",
        "    del all_action_options['Make Iron Sword']\n",
        "\n",
        "  return [f\"{i}. {key}: {value}\" for i, (key, value) in enumerate(all_action_options.items())]"
      ],
      "metadata": {
        "id": "YniIB1lruEg2"
      },
      "execution_count": null,
      "outputs": []
    },
    {
      "cell_type": "code",
      "source": [
        "def parse_scene(input_string):\n",
        "    # Splitting the input string into lines\n",
        "    lines = input_string.split('\\n')\n",
        "\n",
        "    # Initializing the dictionary with None values\n",
        "    scene = {\n",
        "        \"front\": None,\n",
        "        \"west\": None,\n",
        "        \"east\": None,\n",
        "        \"south\": None,\n",
        "        \"north\": None,\n",
        "        \"south-west\": None,\n",
        "        \"south-east\": None,\n",
        "        \"north-west\": None,\n",
        "        \"north-east\": None,\n",
        "    }\n",
        "\n",
        "    # Flag to start processing the \"You see:\" section\n",
        "    process = False\n",
        "    for line in lines:\n",
        "        if line.startswith(\"You see:\"):\n",
        "            process = True\n",
        "            continue\n",
        "        if process:\n",
        "            if line.strip() == \"\":\n",
        "                break  # End of the \"You see:\" section\n",
        "            parts = line.split()\n",
        "            # Extracting the name, steps, and direction\n",
        "            name = parts[1]\n",
        "            if name == \"arrow\":  # Skip if the object name is \"arrow\"\n",
        "                continue\n",
        "            steps = int(parts[2])  # Extracting the step count\n",
        "            direction = parts[-1]\n",
        "            # Updating the scene dictionary\n",
        "            scene[direction] = {\"name\": name, \"steps\": steps}\n",
        "\n",
        "    # Handling the \"You face\" case\n",
        "    for line in lines:\n",
        "        if line.startswith(\"You face\"):\n",
        "            parts = line.split()\n",
        "            name = parts[2]\n",
        "            # The steps will always be 1 for the \"front\" object\n",
        "            scene[\"front\"] = {\"name\": name, \"steps\": 1}\n",
        "            break\n",
        "\n",
        "    return scene"
      ],
      "metadata": {
        "id": "xmqbHyVIk4zw"
      },
      "execution_count": null,
      "outputs": []
    },
    {
      "cell_type": "markdown",
      "source": [
        "### Data Engineering"
      ],
      "metadata": {
        "id": "icOXjlu0Etdj"
      }
    },
    {
      "cell_type": "code",
      "source": [
        "%cd ./SmartPlay/src\n",
        "import smartplay\n",
        "%cd ../.."
      ],
      "metadata": {
        "id": "FKYwWusdITTV"
      },
      "execution_count": null,
      "outputs": []
    },
    {
      "cell_type": "code",
      "source": [
        "%%time\n",
        "\n",
        "import os\n",
        "from tqdm import tqdm\n",
        "\n",
        "training_dataset = []\n",
        "\n",
        "valid_count = 0\n",
        "out_of_map_error_count = 0\n",
        "\n",
        "for file in tqdm(npz_files):\n",
        "    file_path = os.path.join(directory, file)\n",
        "    data = np.load(file_path)\n",
        "\n",
        "    num_steps = len(data[\"image\"])\n",
        "    sleeping = False\n",
        "    previous_player_pos = data[\"player_pos\"][0]\n",
        "    player_facing = (0, 1)\n",
        "    actions_history = []\n",
        "\n",
        "    for step_num in range(num_steps - 1):\n",
        "        # Handle sleeping state\n",
        "        if action_names[data[\"action\"][step_num]] == \"sleep\" and data['inventory_energy'][step_num] < 9:\n",
        "            sleeping = True\n",
        "        elif sleeping and action_names[data[\"action\"][step_num]] != \"noop\":\n",
        "            sleeping = False\n",
        "\n",
        "        # Handle player_facing state\n",
        "        current_player_pos = data[\"player_pos\"][step_num]\n",
        "        if previous_player_pos[0] != current_player_pos[0] or previous_player_pos[1] != current_player_pos[1]:\n",
        "            player_facing = (current_player_pos[0] - previous_player_pos[0], current_player_pos[1] - previous_player_pos[1])\n",
        "\n",
        "        info = {\n",
        "            \"action\": action_names[data[\"action\"][step_num]], # convert to snake-cased action name\n",
        "            \"sleeping\": sleeping,\n",
        "            \"dead\": data[\"done\"][step_num],\n",
        "            \"inventory\": {\n",
        "                'health': data['inventory_health'][step_num],\n",
        "                'food': data['inventory_food'][step_num],\n",
        "                'drink': data['inventory_drink'][step_num],\n",
        "                'energy': data['inventory_energy'][step_num],\n",
        "                'sapling': data['inventory_sapling'][step_num],\n",
        "                'wood': data['inventory_wood'][step_num],\n",
        "                'stone': data['inventory_stone'][step_num],\n",
        "                'coal': data['inventory_coal'][step_num],\n",
        "                'iron': data['inventory_iron'][step_num],\n",
        "                'diamond': data['inventory_diamond'][step_num],\n",
        "                'wood_pickaxe': data['inventory_wood_pickaxe'][step_num],\n",
        "                'stone_pickaxe': data['inventory_stone_pickaxe'][step_num],\n",
        "                'iron_pickaxe': data['inventory_iron_pickaxe'][step_num],\n",
        "                'wood_sword': data['inventory_wood_sword'][step_num],\n",
        "                'stone_sword': data['inventory_stone_sword'][step_num],\n",
        "                'iron_sword': data['inventory_iron_sword'][step_num]\n",
        "            },\n",
        "            \"player_pos\": data[\"player_pos\"][step_num],\n",
        "            \"player_facing\": player_facing,\n",
        "            \"view\": np.array([9, 9]),\n",
        "            \"semantic\": data[\"semantic\"][step_num],\n",
        "        }\n",
        "\n",
        "        action_choice = action_list[data[\"action\"][step_num + 1]]\n",
        "\n",
        "        actions_history.append(action_list[data[\"action\"][step_num]])\n",
        "\n",
        "        current_observation = smartplay.crafter.crafter_env.describe_frame(info, action_list[data[\"action\"][step_num]])\n",
        "\n",
        "        if current_observation == \"Error, you are out of the map.\":\n",
        "          out_of_map_error_count += 1\n",
        "\n",
        "        else:\n",
        "          observed_objects = parse_scene(current_observation)\n",
        "\n",
        "          threats = get_threats(observed_objects)\n",
        "\n",
        "          goal = get_goal(action_list[data[\"action\"][step_num]], info['inventory'], observed_objects)\n",
        "\n",
        "          action_options = get_action_options(info['inventory'], observed_objects)\n",
        "\n",
        "          prompt_and_answer = compose_prompt_and_answer(current_observation, actions_history[-10:], action_list, info['inventory'], threats, goal, action_options, action_choice)\n",
        "\n",
        "          training_dataset.append({ 'text': prompt_and_answer })\n",
        "\n",
        "          valid_count += 1\n",
        "\n",
        "        previous_player_pos = data[\"player_pos\"][step_num]\n",
        "\n",
        "    data.close()\n",
        "\n",
        "print(f\"Valid Data Point: {valid_count}\")\n",
        "print(f\"Out-Of-Map Error Data Point: {out_of_map_error_count}\")"
      ],
      "metadata": {
        "id": "3BCNmM0BQ0ke"
      },
      "execution_count": null,
      "outputs": []
    },
    {
      "cell_type": "code",
      "source": [
        "import pandas as pd\n",
        "\n",
        "training_dataset_df = pd.DataFrame(training_dataset)\n",
        "training_dataset_df.to_csv('training_dataset.csv', index=False)"
      ],
      "metadata": {
        "id": "fmtM7bOIxrPp"
      },
      "execution_count": null,
      "outputs": []
    },
    {
      "cell_type": "code",
      "source": [
        "from huggingface_hub import notebook_login\n",
        "\n",
        "notebook_login()"
      ],
      "metadata": {
        "id": "5ygnnm0i3NkL"
      },
      "execution_count": null,
      "outputs": []
    },
    {
      "cell_type": "code",
      "source": [
        "from datasets import load_dataset\n",
        "\n",
        "uploadable_training_dataset = load_dataset('csv', data_files='training_dataset.csv', split='train')\n",
        "uploadable_training_dataset.push_to_hub(\"techandy42/CrafterGPT-Training-Dataset\")"
      ],
      "metadata": {
        "id": "VjUOxzeCx490"
      },
      "execution_count": null,
      "outputs": []
    }
  ]
}